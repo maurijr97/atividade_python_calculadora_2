{
 "cells": [
  {
   "cell_type": "code",
   "execution_count": 1,
   "id": "a0a37e45",
   "metadata": {},
   "outputs": [
    {
     "name": "stdout",
     "output_type": "stream",
     "text": [
      "Qual operação você quer realizar?\n",
      "1: Soma 2: Subtração 3: Multiplicação 4: Divisão 0: Sair\n",
      "1\n",
      "Insira o primeiro número da operação:\n",
      "4\n",
      "Insira o segundo número da operação:\n",
      "6\n",
      "O resulta é:  10\n",
      "Qual operação você quer realizar?\n",
      "1: Soma 2: Subtração 3: Multiplicação 4: Divisão 0: Sair\n",
      "0\n"
     ]
    }
   ],
   "source": [
    "def calculadora(num1, num2, operacao):\n",
    "    if operacao == 1:\n",
    "        return num1 + num2\n",
    "    elif operacao == 2:\n",
    "        return num1 - num2\n",
    "    elif operacao == 3:\n",
    "        return num1 * num2\n",
    "    elif operacao == 4:\n",
    "        if num2 != 0:\n",
    "            return num1 / num2\n",
    "        else:\n",
    "            print(\"Erro: Divisão por zero.\")\n",
    "            return 0\n",
    "    else:\n",
    "        print(\"Operação inválida.\")\n",
    "        return 0\n",
    "\n",
    "executar = True\n",
    "\n",
    "while (executar == True):\n",
    "    print(\"Qual operação você quer realizar?\")\n",
    "    print(\"1: Soma 2: Subtração 3: Multiplicação 4: Divisão 0: Sair\")\n",
    "    operacao = int(input())\n",
    "    if (operacao < 0) or (operacao > 4):\n",
    "        print(\"Essa opção não existe\")\n",
    "    elif(operacao == 0):\n",
    "        executar = False\n",
    "    else:\n",
    "        print(\"Insira o primeiro número da operação:\")\n",
    "        num1 = int(input())\n",
    "        print(\"Insira o segundo número da operação:\")\n",
    "        num2 = int(input())\n",
    "        resultado = calculadora(num1, num2, operacao)\n",
    "        print(\"O resulta é: \", resultado)"
   ]
  },
  {
   "cell_type": "code",
   "execution_count": null,
   "id": "024c8d32",
   "metadata": {},
   "outputs": [],
   "source": []
  }
 ],
 "metadata": {
  "kernelspec": {
   "display_name": "Python 3 (ipykernel)",
   "language": "python",
   "name": "python3"
  },
  "language_info": {
   "codemirror_mode": {
    "name": "ipython",
    "version": 3
   },
   "file_extension": ".py",
   "mimetype": "text/x-python",
   "name": "python",
   "nbconvert_exporter": "python",
   "pygments_lexer": "ipython3",
   "version": "3.11.3"
  }
 },
 "nbformat": 4,
 "nbformat_minor": 5
}
